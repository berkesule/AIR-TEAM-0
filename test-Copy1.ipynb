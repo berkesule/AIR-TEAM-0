{
 "cells": [
  {
   "cell_type": "code",
   "execution_count": 3,
   "id": "d7dc37fe-8f25-4d98-8b7d-c7e422c527b0",
   "metadata": {},
   "outputs": [],
   "source": [
    "import pandas as pd\n",
    "import numpy as np\n",
    "import seaborn as sns"
   ]
  },
  {
   "cell_type": "code",
   "execution_count": 4,
   "id": "25e4f180",
   "metadata": {},
   "outputs": [],
   "source": [
    "df = sns.load_dataset('planets')"
   ]
  },
  {
   "cell_type": "markdown",
   "id": "ce99ee56",
   "metadata": {},
   "source": [
    "### Print/ Display the first 5 rows of dataframe"
   ]
  },
  {
   "cell_type": "code",
   "execution_count": 9,
   "id": "f57c2abf-fa5a-4b72-953f-3e63422dcdde",
   "metadata": {},
   "outputs": [
    {
     "name": "stdout",
     "output_type": "stream",
     "text": [
      "            method  number  orbital_period   mass  distance  year\n",
      "0  Radial Velocity       1         269.300   7.10     77.40  2006\n",
      "1  Radial Velocity       1         874.774   2.21     56.95  2008\n",
      "2  Radial Velocity       1         763.000   2.60     19.84  2011\n",
      "3  Radial Velocity       1         326.030  19.40    110.62  2007\n",
      "4  Radial Velocity       1         516.220  10.50    119.47  2009\n"
     ]
    }
   ],
   "source": [
    "# your code hre\n",
    "print(df.head(5))"
   ]
  },
  {
   "cell_type": "markdown",
   "id": "c7b68401",
   "metadata": {},
   "source": [
    "### Print/ Display the last 5 rows of dataframe"
   ]
  },
  {
   "cell_type": "code",
   "execution_count": 15,
   "id": "4c27adad-ccd9-4871-8d81-dcc11c742dae",
   "metadata": {},
   "outputs": [
    {
     "name": "stdout",
     "output_type": "stream",
     "text": [
      "       method  number  orbital_period  mass  distance  year\n",
      "1030  Transit       1        3.941507   NaN     172.0  2006\n",
      "1031  Transit       1        2.615864   NaN     148.0  2007\n",
      "1032  Transit       1        3.191524   NaN     174.0  2007\n",
      "1033  Transit       1        4.125083   NaN     293.0  2008\n",
      "1034  Transit       1        4.187757   NaN     260.0  2008\n"
     ]
    }
   ],
   "source": [
    "# your code here\n",
    "print(df.tail(5))"
   ]
  },
  {
   "cell_type": "markdown",
   "id": "fb3c9eaa",
   "metadata": {},
   "source": [
    "### How many unique methods are there?"
   ]
  },
  {
   "cell_type": "markdown",
   "id": "af733704",
   "metadata": {},
   "source": [
    "# your code here\n"
   ]
  },
  {
   "cell_type": "markdown",
   "id": "7f76919e",
   "metadata": {},
   "source": [
    "### What is the number of data collected in each year?"
   ]
  },
  {
   "cell_type": "code",
   "execution_count": 18,
   "id": "ebe99372",
   "metadata": {},
   "outputs": [
    {
     "name": "stdout",
     "output_type": "stream",
     "text": [
      "year\n",
      "2011    185\n",
      "2012    140\n",
      "2013    118\n",
      "2010    102\n",
      "2009     98\n",
      "2008     74\n",
      "2007     53\n",
      "2014     52\n",
      "2005     39\n",
      "2002     32\n",
      "2006     31\n",
      "2004     26\n",
      "2003     25\n",
      "2000     16\n",
      "1999     15\n",
      "2001     12\n",
      "1996      6\n",
      "1998      5\n",
      "1992      2\n",
      "1995      1\n",
      "1997      1\n",
      "1989      1\n",
      "1994      1\n",
      "Name: count, dtype: int64\n"
     ]
    }
   ],
   "source": [
    "# your code here\n",
    "dataperyear = df['year'].value_counts()\n",
    "print(dataperyear)\n"
   ]
  },
  {
   "cell_type": "markdown",
   "id": "727d747c",
   "metadata": {},
   "source": [
    "### Which columns have missing values and how many?"
   ]
  },
  {
   "cell_type": "code",
   "execution_count": 22,
   "id": "58007d03",
   "metadata": {},
   "outputs": [
    {
     "name": "stdout",
     "output_type": "stream",
     "text": [
      "orbital_period     43\n",
      "mass              522\n",
      "distance          227\n",
      "dtype: int64\n"
     ]
    }
   ],
   "source": [
    "kayıpveri = df.isnull().sum()\n",
    "print(kayıpveri[kayıpveri > 0])\n"
   ]
  },
  {
   "cell_type": "markdown",
   "id": "1578507d",
   "metadata": {},
   "source": [
    "### Write docstring for the function below."
   ]
  },
  {
   "cell_type": "code",
   "execution_count": 28,
   "id": "0790c3e9",
   "metadata": {},
   "outputs": [],
   "source": [
    "def do_something(x, y, z):\n",
    "    \"\"\"\n",
    "    \n",
    "calculates the inverse of these numbers based on multiplication, then adds them and finally gets the inverse based on multiplication\n",
    "\n",
    "    \"\"\"   \n",
    "\n",
    "    result = 1 / x + 1 / y + 1 / z\n",
    "\n",
    "    return 1 / result"
   ]
  },
  {
   "cell_type": "markdown",
   "id": "747abb0f",
   "metadata": {},
   "source": [
    "### Get (print) the docstring of the function defined above."
   ]
  },
  {
   "cell_type": "code",
   "execution_count": 29,
   "id": "275de09b",
   "metadata": {},
   "outputs": [
    {
     "name": "stdout",
     "output_type": "stream",
     "text": [
      "\n",
      "    \n",
      "calculates the inverse of these numbers based on multiplication, then adds them and finally gets the inverse based on multiplication\n",
      "\n",
      "    \n"
     ]
    }
   ],
   "source": [
    "print(do_something.__doc__)"
   ]
  },
  {
   "cell_type": "markdown",
   "id": "ed184959",
   "metadata": {},
   "source": [
    "### Call do_something function for the (11,13,15) values and save it as result"
   ]
  },
  {
   "cell_type": "code",
   "execution_count": 33,
   "id": "4fc0d8dc",
   "metadata": {},
   "outputs": [
    {
     "name": "stdout",
     "output_type": "stream",
     "text": [
      "4.26441351888668\n"
     ]
    }
   ],
   "source": [
    "result = do_something(11,13,15)\n",
    "print(result)"
   ]
  },
  {
   "cell_type": "markdown",
   "id": "6ce6507f",
   "metadata": {},
   "source": [
    "### In the variable 's' containing a sentence, extract the word using result defined above as index"
   ]
  },
  {
   "cell_type": "code",
   "execution_count": 34,
   "id": "8e38c4f4",
   "metadata": {},
   "outputs": [
    {
     "name": "stdout",
     "output_type": "stream",
     "text": [
      "Learning\n"
     ]
    }
   ],
   "source": [
    "s = \"I love Machine Learning and Deep Learning\"\n",
    "\n",
    "# use int() to convert the result to integer\n",
    "# your code here\n",
    "result = int(result)\n",
    "kelimeler = s.split()\n",
    "cıkarılankelime = kelimeler[result-1]\n",
    "print(cıkarılankelime)"
   ]
  },
  {
   "cell_type": "markdown",
   "id": "717d458b",
   "metadata": {},
   "source": [
    "### Sort the given array below, do not use built in functions. All sorting methods are allowed."
   ]
  },
  {
   "cell_type": "code",
   "execution_count": 44,
   "id": "d16f179c",
   "metadata": {},
   "outputs": [
    {
     "name": "stdout",
     "output_type": "stream",
     "text": [
      "[3, 20, 44, 44, 47, 74, 76, 84, 90, 94]\n"
     ]
    }
   ],
   "source": [
    "import random\n",
    "i = 0\n",
    "\n",
    "arr = [random.randint(1, 100) for i in range(10)]\n",
    "\n",
    "# your code here\n",
    "n = len(arr)\n",
    "for i in range(n):\n",
    "    for j in range(0, n - i - 1):\n",
    "        if arr[j] > arr[j + 1]:\n",
    "             arr[j], arr[j + 1] = arr[j + 1], arr[j]\n",
    "print(arr)"
   ]
  },
  {
   "cell_type": "markdown",
   "id": "1ea341f3",
   "metadata": {},
   "source": [
    "### define a recursive function to calculate input numbers factorial named factorial"
   ]
  },
  {
   "cell_type": "code",
   "execution_count": null,
   "id": "98d1ca95",
   "metadata": {},
   "outputs": [],
   "source": [
    "# your code here\n",
    "def factorial(n):\n",
    "    if n == 0 or n == 1:\n",
    "        return 1\n",
    "    else:\n",
    "        fact = 1\n",
    "        for i in range(2, n + 1):\n",
    "            fact *= i\n",
    "        return fact\n",
    "\n",
    "            \n",
    "            \n",
    "        "
   ]
  },
  {
   "cell_type": "markdown",
   "id": "ea9887d8",
   "metadata": {},
   "source": [
    "### define a function to merge the given arrays and calculate the median named twoMedian"
   ]
  },
  {
   "cell_type": "code",
   "execution_count": 3,
   "id": "e02288f6",
   "metadata": {},
   "outputs": [],
   "source": [
    "# your code here\n",
    "def twoMedian(arr1, arr2):\n",
    "    sıra = sort(arr1 + arr2) \n",
    "\n",
    "    sayı = len(merged)\n",
    "    \n",
    "    \n",
    "    if sayı % 2 != 0:\n",
    "    \n",
    "        median = sıra[length // 2]\n",
    "    \n",
    "    median = (sıra[sayı // 2 - 1] + sıra[sayı // 2]) / 2\n",
    "\n"
   ]
  },
  {
   "cell_type": "code",
   "execution_count": null,
   "id": "732c5dd3",
   "metadata": {},
   "outputs": [],
   "source": []
  },
  {
   "cell_type": "code",
   "execution_count": null,
   "id": "4382a979",
   "metadata": {},
   "outputs": [],
   "source": []
  },
  {
   "cell_type": "code",
   "execution_count": null,
   "id": "631e2018",
   "metadata": {},
   "outputs": [],
   "source": []
  },
  {
   "cell_type": "code",
   "execution_count": null,
   "id": "21929bc1",
   "metadata": {},
   "outputs": [],
   "source": []
  },
  {
   "cell_type": "code",
   "execution_count": null,
   "id": "3f0d5233",
   "metadata": {},
   "outputs": [],
   "source": []
  }
 ],
 "metadata": {
  "kernelspec": {
   "display_name": "Python 3 (ipykernel)",
   "language": "python",
   "name": "python3"
  },
  "language_info": {
   "codemirror_mode": {
    "name": "ipython",
    "version": 3
   },
   "file_extension": ".py",
   "mimetype": "text/x-python",
   "name": "python",
   "nbconvert_exporter": "python",
   "pygments_lexer": "ipython3",
   "version": "3.11.5"
  }
 },
 "nbformat": 4,
 "nbformat_minor": 5
}
